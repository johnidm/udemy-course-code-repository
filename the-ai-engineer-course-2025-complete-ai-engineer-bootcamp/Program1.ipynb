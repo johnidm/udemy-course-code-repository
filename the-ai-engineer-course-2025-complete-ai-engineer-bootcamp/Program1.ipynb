{
 "cells": [
  {
   "cell_type": "code",
   "execution_count": 20,
   "id": "aac6b6b3-05f7-40b1-bca5-45d86209ebf7",
   "metadata": {},
   "outputs": [
    {
     "name": "stdout",
     "output_type": "stream",
     "text": [
      "The dotenv extension is already loaded. To reload it, use:\n",
      "  %reload_ext dotenv\n"
     ]
    }
   ],
   "source": [
    "%load_ext dotenv\n",
    "%dotenv"
   ]
  },
  {
   "cell_type": "code",
   "execution_count": 21,
   "id": "ae588960-b3bd-4e5e-961f-6d2db9797796",
   "metadata": {},
   "outputs": [
    {
     "name": "stdout",
     "output_type": "stream",
     "text": [
      "\n",
      "\u001b[1m[\u001b[0m\u001b[34;49mnotice\u001b[0m\u001b[1;39;49m]\u001b[0m\u001b[39;49m A new release of pip is available: \u001b[0m\u001b[31;49m25.0\u001b[0m\u001b[39;49m -> \u001b[0m\u001b[32;49m25.0.1\u001b[0m\n",
      "\u001b[1m[\u001b[0m\u001b[34;49mnotice\u001b[0m\u001b[1;39;49m]\u001b[0m\u001b[39;49m To update, run: \u001b[0m\u001b[32;49mpip install --upgrade pip\u001b[0m\n"
     ]
    }
   ],
   "source": [
    "!pip install langchain_core langchain_community langchain_openai langchain_chroma pypdf -q"
   ]
  },
  {
   "cell_type": "code",
   "execution_count": 22,
   "id": "d60d0022-9183-4090-b0f1-7411fb6b0131",
   "metadata": {},
   "outputs": [],
   "source": [
    "from langchain_community.document_loaders import PyPDFLoader\n",
    "\n",
    "from langchain_text_splitters import TokenTextSplitter\n",
    "\n",
    "from langchain_core.output_parsers.string import StrOutputParser\n",
    "from langchain_core.messages import SystemMessage\n",
    "from langchain_core.prompts import (PromptTemplate,\n",
    "                                    HumanMessagePromptTemplate,\n",
    "                                    ChatPromptTemplate)\n",
    "from langchain_core.runnables import RunnablePassthrough\n",
    "\n",
    "from langchain_openai import (ChatOpenAI,\n",
    "                              OpenAIEmbeddings)\n",
    "\n",
    "from langchain_chroma.vectorstores import Chroma"
   ]
  },
  {
   "cell_type": "code",
   "execution_count": 23,
   "id": "b8044ffe-cdec-4165-8a55-edf1d6c8ed04",
   "metadata": {},
   "outputs": [],
   "source": [
    "loader = PyPDFLoader(\"IntroToAICourseNotes.pdf\")\n",
    "\n",
    "docs_list = loader.load()\n",
    "# docs_list"
   ]
  },
  {
   "cell_type": "code",
   "execution_count": null,
   "id": "5609fefc-c1dd-44e7-aa43-6f482c127686",
   "metadata": {},
   "outputs": [],
   "source": [
    "token_splitter = TokenTextSplitter(encoding_name=\"cl100k_base\",\n",
    "                                   chunk_size=200,\n",
    "                                   chunk_overlap=40)\n",
    "\n",
    "docs_list_tokens_split = token_splitter.split_documents(docs_list)\n",
    "\n",
    "embedding = OpenAIEmbeddings(model='text-embedding-3-small')\n",
    "\n",
    "vectorstore = Chroma.from_documents(documents = docs_list_tokens_split,\n",
    "                                    embedding = embedding,\n",
    "                                    persist_directory = \"./intro-to-ai\")"
   ]
  },
  {
   "cell_type": "code",
   "execution_count": 31,
   "id": "1434b433-b47e-4b10-a307-9cedbfe73138",
   "metadata": {},
   "outputs": [],
   "source": [
    "PROMPT_RETRIEVING_S = '''You will receive a question from a student taking the Intro to AI course.\n",
    "Answer the question using only the provided context.'''\n",
    "\n",
    "PROMPT_TEMPLATE_RETRIEVING_H = '''This is the question:\n",
    "{question}\n",
    "\n",
    "This is the context:\n",
    "{context}'''\n",
    "\n",
    "prompt_retrieving_s = SystemMessage(PROMPT_RETRIEVING_S)\n",
    "prompt_template_retrieving_h = HumanMessagePromptTemplate.from_template(PROMPT_TEMPLATE_RETRIEVING_H)\n",
    "\n",
    "chat_prompt_template_retrieving = ChatPromptTemplate([prompt_retrieving_s,\n",
    "                                                      prompt_template_retrieving_h])\n"
   ]
  },
  {
   "cell_type": "code",
   "execution_count": 32,
   "id": "0fded265-bdd0-4c0a-af87-e20855305eb2",
   "metadata": {},
   "outputs": [
    {
     "name": "stdout",
     "output_type": "stream",
     "text": [
      "- **1950**: Alan Turing publishes a paper asking, \"Can machines think?\" and introduces the Turing Test, setting a practical criterion for evaluating machine intelligence.\n",
      "- **1956**: The Dartmouth Conference marks the formal start of AI as a field of study, coining the term \"artificial intelligence.\"\n",
      "- **1960s and 70s**: AI Winter occurs due to limited technology and data availability, leading to reduced funding and interest.\n",
      "- **1997**: IBM’s Deep Blue defeats world chess champion Garry Kasparov, reigniting interest in AI.\n",
      "- **Late 1990s and Early 2000s**: A surge in computer power and the rapid expansion of the Internet provide resources for advanced AI research.\n",
      "- **2006**: Geoffrey Hinton’s paper on deep learning revives interest in neural networks, introducing techniques that mimic the human brain's functions."
     ]
    }
   ],
   "source": [
    "chat = ChatOpenAI(model_name = \"gpt-4o\",\n",
    "                  temperature = 0)\n",
    "\n",
    "str_output_parser = StrOutputParser()\n",
    "\n",
    "chain = ({'context': retriever,\n",
    "          'question': RunnablePassthrough()}\n",
    "         | chat_prompt_template_retrieving\n",
    "         | chat\n",
    "         | str_output_parser\n",
    "        )\n",
    "\n",
    "response = chain.stream('Talk about the history of AI. Return the answer in bullet points.')\n",
    "\n",
    "for chunk in response:\n",
    "    print(chunk, end = \"\")"
   ]
  }
 ],
 "metadata": {
  "kernelspec": {
   "display_name": "Python 3 (ipykernel)",
   "language": "python",
   "name": "python3"
  },
  "language_info": {
   "codemirror_mode": {
    "name": "ipython",
    "version": 3
   },
   "file_extension": ".py",
   "mimetype": "text/x-python",
   "name": "python",
   "nbconvert_exporter": "python",
   "pygments_lexer": "ipython3",
   "version": "3.12.6"
  }
 },
 "nbformat": 4,
 "nbformat_minor": 5
}
