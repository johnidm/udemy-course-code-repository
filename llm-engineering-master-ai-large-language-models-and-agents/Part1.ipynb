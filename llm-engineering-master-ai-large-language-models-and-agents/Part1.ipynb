{
 "cells": [
  {
   "cell_type": "code",
   "execution_count": null,
   "id": "ec52d31b-c3bb-41b6-ad69-3f732a14912b",
   "metadata": {},
   "outputs": [],
   "source": [
    "!pip install openai requests bs4 -q"
   ]
  },
  {
   "cell_type": "code",
   "execution_count": null,
   "id": "e049f246-6d56-4364-b491-64a3f82e0a2f",
   "metadata": {},
   "outputs": [],
   "source": [
    "!pip install --upgrade openai"
   ]
  },
  {
   "cell_type": "markdown",
   "id": "e555c5ef-d32c-4e0d-a72d-495b4acba250",
   "metadata": {},
   "source": [
    "### Resources\n",
    "\n",
    "- https://medium.com/@odhitom09/openai-responses-api-a-comprehensive-guide-ad546132b2ed"
   ]
  },
  {
   "cell_type": "code",
   "execution_count": null,
   "id": "dcd80f2f-6866-4ac7-ab49-64897e9a7795",
   "metadata": {},
   "outputs": [],
   "source": [
    "import requests\n",
    "from openai import OpenAI\n",
    "from bs4 import BeautifulSoup\n",
    "from IPython.display import Markdown, display"
   ]
  },
  {
   "cell_type": "code",
   "execution_count": null,
   "id": "c7e9b9b3-d498-4eb6-a1ce-b098289a2500",
   "metadata": {},
   "outputs": [],
   "source": [
    "client = OpenAI(api_key=\"\")"
   ]
  },
  {
   "cell_type": "markdown",
   "id": "4744075e-97a9-4b17-9ea8-8a2c4b2459b0",
   "metadata": {},
   "source": [
    "## Completions API"
   ]
  },
  {
   "cell_type": "code",
   "execution_count": null,
   "id": "5344c2a0-0604-4c1b-91fb-21cc2e3556fe",
   "metadata": {},
   "outputs": [],
   "source": [
    "def scrapping_for(url: str):\n",
    "    headers = {\n",
    "     \"User-Agent\": \"Mozilla/5.0 (Windows NT 10.0; Win64; x64) AppleWebKit/537.36 (KHTML, like Gecko) Chrome/117.0.0.0 Safari/537.36\"\n",
    "    }\n",
    "\n",
    "    response = requests.get(url, headers=headers)\n",
    "    soup = BeautifulSoup(response.content, 'html.parser')\n",
    "\n",
    "    title = soup.title.string if soup.title else \"No title found\"\n",
    "    \n",
    "    for irrelevant in soup.body([\"script\", \"style\", \"img\", \"input\"]):\n",
    "        irrelevant.decompose()\n",
    "    \n",
    "    text = soup.body.get_text(separator=\"\\n\", strip=True)\n",
    "\n",
    "    return {\n",
    "        \"title\": title,\n",
    "        \"text\": text,\n",
    "    }\n",
    "\n",
    "def messages_for(website):\n",
    "    system_prompt = \"You are an assistant that analyzes the contents of a website \\\n",
    "and provides a short summary, ignoring text that might be navigation related. \\\n",
    "Respond in markdown.\"\n",
    "\n",
    "    user_prompt = f\"You are looking at a website titled {website[\"title\"]}\"\n",
    "    user_prompt += \"\\nThe contents of this website is as follows; \\\n",
    "please provide a short summary of this website in markdown. \\\n",
    "If it includes news or announcements, then summarize these too.\\n\\n\"\n",
    "    user_prompt += website[\"text\"]\n",
    "  \n",
    "    \n",
    "    return [\n",
    "        {\n",
    "            \"role\": \"system\",\n",
    "            \"content\": system_prompt, \n",
    "        },\n",
    "        {\n",
    "            \"role\": \"user\",\n",
    "            \"content\": user_prompt,             \n",
    "        }\n",
    "        \n",
    "    ]"
   ]
  },
  {
   "cell_type": "code",
   "execution_count": null,
   "id": "c3461156-20b6-49ac-a128-b71e938c839f",
   "metadata": {},
   "outputs": [],
   "source": [
    "def summarize(url):    \n",
    "    website = scrapping_for(url)\n",
    "    \n",
    "    response = client.chat.completions.create(\n",
    "        model = \"gpt-4o-mini\",\n",
    "        messages = messages_for(website)\n",
    "    )\n",
    "    return response.choices[0].message.content"
   ]
  },
  {
   "cell_type": "code",
   "execution_count": null,
   "id": "16ab86e3-5036-4f98-9cf3-9476bc67b3d4",
   "metadata": {},
   "outputs": [],
   "source": [
    "def display_summary(url):\n",
    "    summary = summarize(url)\n",
    "    display(Markdown(summary))"
   ]
  },
  {
   "cell_type": "code",
   "execution_count": null,
   "id": "d6087a4d-b53c-4ad8-a776-b9ed0cd28540",
   "metadata": {},
   "outputs": [],
   "source": [
    "display_summary(\"https://medium.com/@johnidouglasmarangon\")"
   ]
  },
  {
   "cell_type": "code",
   "execution_count": null,
   "id": "37d1c568-113a-4179-ad58-47f94f6bbdb3",
   "metadata": {},
   "outputs": [],
   "source": [
    "file1 = upload_file(\"slide.pdf\")"
   ]
  },
  {
   "cell_type": "code",
   "execution_count": null,
   "id": "e94f50b0-9018-4dee-8062-be429299fb8b",
   "metadata": {},
   "outputs": [],
   "source": [
    "response = make_question(file1, \"Give me the generative AI tools\")\n",
    "display(Markdown(response))"
   ]
  },
  {
   "cell_type": "markdown",
   "id": "244889a6-aef9-4bb3-8d12-a3353abb2387",
   "metadata": {},
   "source": [
    "## Examples using OpenAI Response API"
   ]
  },
  {
   "cell_type": "markdown",
   "id": "edd529f1-0a57-4eb3-b567-a6c99c6eeabb",
   "metadata": {},
   "source": [
    "#### Text Prompting - Instructions"
   ]
  },
  {
   "cell_type": "code",
   "execution_count": null,
   "id": "75f710af-43e2-4211-80e2-9cf82d3122fd",
   "metadata": {},
   "outputs": [],
   "source": [
    "response = client.responses.create(\n",
    "    model=\"gpt-4o\",\n",
    "    instructions=\"Talk like a math teacher.\",\n",
    "    input=\"Using only an addition, how do you add eight 8’s and get the number 1000?\",\n",
    ")\n",
    "\n",
    "print(response.output_text)"
   ]
  },
  {
   "cell_type": "markdown",
   "id": "56107bca-b76a-4555-9fed-4ac00efd4a1b",
   "metadata": {},
   "source": [
    "#### Text Prompting - Chain of Command (hierarchical instructions)"
   ]
  },
  {
   "cell_type": "code",
   "execution_count": null,
   "id": "46dcb0f5-fe23-442b-806b-90896154e040",
   "metadata": {},
   "outputs": [],
   "source": [
    "response = client.responses.create(\n",
    "    model=\"gpt-4o\",\n",
    "    input=[\n",
    "        {\"role\": \"system\", \"content\": \"Talk like a teacher.\"},\n",
    "        {\"role\": \"developer\", \"content\": \"Explain the answer in detail using bullet points for each step.\"},\n",
    "        {\"role\": \"user\", \"content\": \"What is the result of the equation 5.93 * 10-2?\"},\n",
    "    ],\n",
    ")\n",
    "\n",
    "print(response.output_text)"
   ]
  },
  {
   "cell_type": "markdown",
   "id": "3aac210b-eb69-4e5c-9f36-7f322ca3e5a7",
   "metadata": {},
   "source": [
    "#### Web Search"
   ]
  },
  {
   "cell_type": "code",
   "execution_count": null,
   "id": "999237b0-3f8b-4bd7-861b-a9342d6c1464",
   "metadata": {},
   "outputs": [],
   "source": [
    "\n",
    "response = client.responses.create(\n",
    "    model=\"gpt-4o-mini\",\n",
    "    input=\"What are the tarifs between the USA and China?\",\n",
    "    tools=[\n",
    "        {\n",
    "            \"type\" : \"web_search_preview\"\n",
    "        }\n",
    "    ]\n",
    ")\n",
    "\n",
    "print(response.output_text)"
   ]
  },
  {
   "cell_type": "markdown",
   "id": "cd69756e-3c88-4adb-99a1-076246fd8467",
   "metadata": {},
   "source": [
    "#### Reasoning"
   ]
  },
  {
   "cell_type": "code",
   "execution_count": null,
   "id": "4b90c13b-6102-453e-9fb8-78bcfe04b4d2",
   "metadata": {},
   "outputs": [],
   "source": [
    "prompt = \"\"\"\n",
    "Write a recursive Python function to solve the Fibonacci problem.\n",
    "Use memorization.\n",
    "\"\"\"\n",
    "\n",
    "response = client.responses.create(\n",
    "    model=\"o3-mini\",\n",
    "    reasoning={\"effort\": \"medium\"},\n",
    "    input=[{\"role\": \"user\", \"content\": prompt}],\n",
    ")\n",
    "\n",
    "print(response.output_text)"
   ]
  },
  {
   "cell_type": "markdown",
   "id": "c5befc73-9ca1-4a35-99a2-fb5e922d3f8e",
   "metadata": {},
   "source": [
    "#### Structured Output - Whitout Parsing"
   ]
  },
  {
   "cell_type": "code",
   "execution_count": null,
   "id": "5d7e821e-1609-4ab6-89c9-9af0986ae03b",
   "metadata": {},
   "outputs": [],
   "source": [
    "import json\n",
    "from typing import List\n",
    "\n",
    "response = client.responses.create(\n",
    "    model=\"gpt-4o\",\n",
    "    input=[\n",
    "        {\n",
    "            \"role\": \"system\",\n",
    "            \"content\": \"Extract email and name from text.\",\n",
    "        },\n",
    "        {\n",
    "            \"role\": \"user\",\n",
    "            \"content\": \"Customer Alice Philip and her email alice@alice.com.\",\n",
    "        },\n",
    "    ],\n",
    "    text={\n",
    "        \"format\": {\n",
    "            \"type\": \"json_schema\",\n",
    "            \"name\": \"person_info\",\n",
    "            \"schema\": {\n",
    "                \"type\": \"object\",\n",
    "                \"properties\": {\n",
    "                    \"name\": {\"type\": \"string\"},\n",
    "                    \"email\": {\"type\": \"string\"},\n",
    "                },\n",
    "                \"required\": [\"name\", \"email\"],\n",
    "                \"additionalProperties\": False,\n",
    "            },\n",
    "            \"strict\": True,\n",
    "        }\n",
    "    },\n",
    ")\n",
    "\n",
    "event = json.loads(response.output_text)\n",
    "\n",
    "print(event)"
   ]
  },
  {
   "cell_type": "markdown",
   "id": "5e717a1a-2d12-4a06-8d7c-10d2da4b82d1",
   "metadata": {},
   "source": [
    "### Structured Output - With Parsing"
   ]
  },
  {
   "cell_type": "code",
   "execution_count": null,
   "id": "85cdbf48-3002-476b-8b5b-ce6ba8d7b152",
   "metadata": {},
   "outputs": [],
   "source": [
    "from pydantic import BaseModel\n",
    "\n",
    "class PersonInfo(BaseModel):\n",
    "    name: str\n",
    "    email: str\n",
    "\n",
    "\n",
    "response = client.responses.parse(\n",
    "    model=\"gpt-4o\",\n",
    "    instructions=\"Extract email and name from text.\",\n",
    "    input=\"Customer Alice Philip and her email alice@alice.com.\",\n",
    "    text_format=PersonInfo,\n",
    ")\n",
    "\n",
    "response_model = response.output[0].content[0].parsed\n",
    "\n",
    "print(type(response_model))\n",
    "print(response_model.model_dump_json(indent=2))"
   ]
  },
  {
   "cell_type": "markdown",
   "id": "3d2e3a5f-c145-495c-8360-101584bb7fb5",
   "metadata": {},
   "source": [
    "### Function Calling "
   ]
  },
  {
   "cell_type": "code",
   "execution_count": null,
   "id": "efe0f541-e320-44c5-a304-fb16a37a9ff2",
   "metadata": {},
   "outputs": [],
   "source": [
    "tools = [\n",
    "    {\n",
    "        \"type\": \"function\",\n",
    "        \"name\": \"send_email\",\n",
    "        \"description\": \"Send an email to a given recipient with a subject and message.\",\n",
    "        \"parameters\": {\n",
    "            \"type\": \"object\",\n",
    "            \"properties\": {\n",
    "                \"to\": {\"type\": \"string\", \"description\": \"The recipient email address.\"},\n",
    "                \"subject\": {\"type\": \"string\", \"description\": \"Email subject line.\"},\n",
    "                \"body\": {\"type\": \"string\", \"description\": \"Body of the email message.\"},\n",
    "            },\n",
    "            \"required\": [\"to\", \"subject\", \"body\"],\n",
    "            \"additionalProperties\": False,\n",
    "        },\n",
    "    }\n",
    "]\n",
    "\n",
    "response = client.responses.create(\n",
    "    model=\"gpt-4o\",\n",
    "    input=\"Can you send an email to ilan@example.com and katia@example.com saying hi?\",\n",
    "    tools=tools,\n",
    ")\n",
    "\n",
    "print(response.output)\n",
    "print(response.output[0].model_dump_json(indent=2))\n",
    "print(response.output[1].model_dump_json(indent=2))"
   ]
  },
  {
   "cell_type": "markdown",
   "id": "11cd12d5-bb22-40ef-8e12-d3f5c2d916cc",
   "metadata": {},
   "source": [
    "#### File Search"
   ]
  },
  {
   "cell_type": "code",
   "execution_count": null,
   "id": "9b95ae20-43f5-4a61-b1a7-d1dc8fa41614",
   "metadata": {},
   "outputs": [],
   "source": [
    "uploaded_file = client.files.create(\n",
    "        file=open(filename, \"rb\"),\n",
    "        purpose=\"user_data\",\n",
    ")\n",
    "\n",
    "response = client.responses.create(\n",
    "    model=\"gpt-4o\",\n",
    "    input=[\n",
    "        {\n",
    "            \"role\": \"user\",\n",
    "            \"content\": [\n",
    "                {\n",
    "                    \"type\": \"input_file\",\n",
    "                    \"file_id\": uploaded_file.id,\n",
    "                },\n",
    "                {\n",
    "                    \"type\": \"input_text\",\n",
    "                    \"text\": question,\n",
    "                },\n",
    "            ]\n",
    "        }\n",
    "    ]\n",
    ")\n",
    "\n",
    "pritn(response.output_text)"
   ]
  },
  {
   "cell_type": "markdown",
   "id": "e143e5d3-d60f-4fab-841b-1a4422e6ec2b",
   "metadata": {},
   "source": [
    "## Hands-on "
   ]
  },
  {
   "cell_type": "code",
   "execution_count": null,
   "id": "adf72172-94c4-47f3-92ff-f1bbb73dfe2d",
   "metadata": {},
   "outputs": [],
   "source": [
    "from IPython.display import Markdown, display, update_display\n",
    "from openai import OpenAI\n",
    "\n",
    "question = \"\"\"\n",
    "Please explain what this code does and why:\n",
    "\n",
    "```\n",
    "yield from {book.get(\"author\") for book in books if book.get(\"author\")}\n",
    "```\n",
    "\"\"\"\n",
    "\n",
    "client = OpenAI(api_key=\"\")\n",
    "\n",
    "\n",
    "stream = client.chat.completions.create(\n",
    "    model=\"gpt-4.1\",\n",
    "    messages=[\n",
    "        {\n",
    "            \"role\": \"user\",\n",
    "            \"content\": question,\n",
    "        },\n",
    "    ],\n",
    "    stream=True,\n",
    ")\n",
    "\n",
    "response = \"\"\n",
    "display_handle = display(Markdown(\"\"), display_id=True)\n",
    "\n",
    "for chunk in stream:\n",
    "    response += chunk.choices[0].delta.content or ''\n",
    "    response = response.replace(\"```\",\"\").replace(\"markdown\", \"\")\n",
    "    \n",
    "    update_display(Markdown(response), display_id=display_handle.display_id)"
   ]
  },
  {
   "cell_type": "markdown",
   "id": "c7b99c89-95b1-49d9-9b13-2cc20e650c21",
   "metadata": {},
   "source": [
    "## Choices example"
   ]
  },
  {
   "cell_type": "code",
   "execution_count": 8,
   "id": "39cc6b85-a20c-4d22-b38b-6ad0b2c2ec15",
   "metadata": {},
   "outputs": [
    {
     "name": "stdout",
     "output_type": "stream",
     "text": [
      "Choice 1\n",
      "Why did the scarecrow win an award?  \n",
      "Because he was outstanding in his field!\n",
      "Choice 2\n",
      "Why did the scarecrow win an award?\n",
      "\n",
      "Because he was outstanding in his field!\n",
      "Choice 3\n",
      "Why did the scarecrow win an award?\n",
      "\n",
      "Because he was outstanding in his field!\n",
      "Choice 4\n",
      "Why don’t skeletons fight each other?  \n",
      "They don’t have the guts!\n",
      "Choice 5\n",
      "Why don’t skeletons fight each other?  \n",
      "They don’t have the guts!\n"
     ]
    }
   ],
   "source": [
    "from openai import OpenAI\n",
    "\n",
    "client = OpenAI(api_key=\"\")\n",
    "\n",
    "completions = client.chat.completions.create(\n",
    "    model=\"gpt-4.1\",\n",
    "    messages=[\n",
    "        {\n",
    "            \"role\": \"user\",\n",
    "            \"content\": \"Tell me a joke.\",\n",
    "        },\n",
    "    ],\n",
    "    n=5\n",
    ")\n",
    "\n",
    "for index, choice in enumerate(completions.choices):\n",
    "    print(f\"Choice {index + 1}\")\n",
    "    print(choice.message.content)"
   ]
  },
  {
   "cell_type": "code",
   "execution_count": null,
   "id": "584963d0-67dd-4a73-84d6-f82561369475",
   "metadata": {},
   "outputs": [],
   "source": []
  }
 ],
 "metadata": {
  "kernelspec": {
   "display_name": "Python 3 (ipykernel)",
   "language": "python",
   "name": "python3"
  },
  "language_info": {
   "codemirror_mode": {
    "name": "ipython",
    "version": 3
   },
   "file_extension": ".py",
   "mimetype": "text/x-python",
   "name": "python",
   "nbconvert_exporter": "python",
   "pygments_lexer": "ipython3",
   "version": "3.12.8"
  }
 },
 "nbformat": 4,
 "nbformat_minor": 5
}
