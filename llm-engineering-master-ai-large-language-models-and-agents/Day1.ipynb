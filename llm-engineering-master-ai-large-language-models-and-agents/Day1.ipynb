{
 "cells": [
  {
   "cell_type": "code",
   "execution_count": null,
   "id": "ec52d31b-c3bb-41b6-ad69-3f732a14912b",
   "metadata": {},
   "outputs": [],
   "source": [
    "!pip install openai requests bs4 -q"
   ]
  },
  {
   "cell_type": "code",
   "execution_count": null,
   "id": "e049f246-6d56-4364-b491-64a3f82e0a2f",
   "metadata": {},
   "outputs": [],
   "source": [
    "!pip install --upgrade openai"
   ]
  },
  {
   "cell_type": "markdown",
   "id": "e555c5ef-d32c-4e0d-a72d-495b4acba250",
   "metadata": {},
   "source": [
    "### Resources\n",
    "\n",
    "- https://medium.com/@odhitom09/openai-responses-api-a-comprehensive-guide-ad546132b2ed"
   ]
  },
  {
   "cell_type": "code",
   "execution_count": 1,
   "id": "dcd80f2f-6866-4ac7-ab49-64897e9a7795",
   "metadata": {},
   "outputs": [],
   "source": [
    "import requests\n",
    "from openai import OpenAI\n",
    "from bs4 import BeautifulSoup\n",
    "from IPython.display import Markdown, display"
   ]
  },
  {
   "cell_type": "code",
   "execution_count": 3,
   "id": "c7e9b9b3-d498-4eb6-a1ce-b098289a2500",
   "metadata": {},
   "outputs": [],
   "source": [
    "client = OpenAI(api_key=\"\")"
   ]
  },
  {
   "cell_type": "markdown",
   "id": "4744075e-97a9-4b17-9ea8-8a2c4b2459b0",
   "metadata": {},
   "source": [
    "## Completions API"
   ]
  },
  {
   "cell_type": "code",
   "execution_count": 4,
   "id": "5344c2a0-0604-4c1b-91fb-21cc2e3556fe",
   "metadata": {},
   "outputs": [],
   "source": [
    "def scrapping_for(url: str):\n",
    "    headers = {\n",
    "     \"User-Agent\": \"Mozilla/5.0 (Windows NT 10.0; Win64; x64) AppleWebKit/537.36 (KHTML, like Gecko) Chrome/117.0.0.0 Safari/537.36\"\n",
    "    }\n",
    "\n",
    "    response = requests.get(url, headers=headers)\n",
    "    soup = BeautifulSoup(response.content, 'html.parser')\n",
    "\n",
    "    title = soup.title.string if soup.title else \"No title found\"\n",
    "    \n",
    "    for irrelevant in soup.body([\"script\", \"style\", \"img\", \"input\"]):\n",
    "        irrelevant.decompose()\n",
    "    \n",
    "    text = soup.body.get_text(separator=\"\\n\", strip=True)\n",
    "\n",
    "    return {\n",
    "        \"title\": title,\n",
    "        \"text\": text,\n",
    "    }\n",
    "\n",
    "def messages_for(website):\n",
    "    system_prompt = \"You are an assistant that analyzes the contents of a website \\\n",
    "and provides a short summary, ignoring text that might be navigation related. \\\n",
    "Respond in markdown.\"\n",
    "\n",
    "    user_prompt = f\"You are looking at a website titled {website[\"title\"]}\"\n",
    "    user_prompt += \"\\nThe contents of this website is as follows; \\\n",
    "please provide a short summary of this website in markdown. \\\n",
    "If it includes news or announcements, then summarize these too.\\n\\n\"\n",
    "    user_prompt += website[\"text\"]\n",
    "  \n",
    "    \n",
    "    return [\n",
    "        {\n",
    "            \"role\": \"system\",\n",
    "            \"content\": system_prompt, \n",
    "        },\n",
    "        {\n",
    "            \"role\": \"user\",\n",
    "            \"content\": user_prompt,             \n",
    "        }\n",
    "        \n",
    "    ]"
   ]
  },
  {
   "cell_type": "code",
   "execution_count": 8,
   "id": "c3461156-20b6-49ac-a128-b71e938c839f",
   "metadata": {},
   "outputs": [],
   "source": [
    "def summarize(url):    \n",
    "    website = scrapping_for(url)\n",
    "    \n",
    "    response = client.chat.completions.create(\n",
    "        model = \"gpt-4o-mini\",\n",
    "        messages = messages_for(website)\n",
    "    )\n",
    "    return response.choices[0].message.content"
   ]
  },
  {
   "cell_type": "code",
   "execution_count": 9,
   "id": "16ab86e3-5036-4f98-9cf3-9476bc67b3d4",
   "metadata": {},
   "outputs": [],
   "source": [
    "def display_summary(url):\n",
    "    summary = summarize(url)\n",
    "    display(Markdown(summary))"
   ]
  },
  {
   "cell_type": "code",
   "execution_count": 10,
   "id": "d6087a4d-b53c-4ad8-a776-b9ed0cd28540",
   "metadata": {},
   "outputs": [
    {
     "data": {
      "text/markdown": [
       "# Summary of Johni Douglas Marangon – Medium\n",
       "\n",
       "Johni Douglas Marangon is a tech enthusiast who shares insights and knowledge on various topics related to software development and artificial intelligence. The recent articles include:\n",
       "\n",
       "1. **Scaling OpenAI API Usage with Multiple Python Requests** (6 days ago) - Discusses a service created to handle multiple prompts for a classification task.\n",
       "   \n",
       "2. **Efficient PDF Text Extraction in Java: OCR and Parsing Techniques** (Mar 7) - Explores methods for extracting text from PDF documents efficiently using Java.\n",
       "\n",
       "3. **Generating Structured Outputs from PDFs with Semantic Kernel and Gemini** (Mar 3) - Addresses the need for structured data extraction from PDFs in modern applications.\n",
       "\n",
       "4. **My Journey to Read the Vue.js 3 Official Documentation** (Feb 28) - Chronicles the author's experience with the Vue.js 3 documentation, focusing on the Getting Started guide and API.\n",
       "\n",
       "5. **Integrating LLM into Java Applications with Spring AI** (Feb 14) - Covers the incorporation of Large Language Models into Java applications for enhancing NLP capabilities.\n",
       "\n",
       "6. **Visualizing Data: Exploring Various Graphs in Python** (Feb 6) - Details the effectiveness of graphs and charts in interpreting data.\n",
       "\n",
       "7. **OCR Tools: Solving Real-World Problems with Low-Quality Images** (Jan 29) - Investigates the application of Optical Character Recognition in real-world scenarios.\n",
       "\n",
       "8. **Reversing Strings in Python: Immutability Explained** (Jan 23) - Explains the concept of string immutability in Python and its implications.\n",
       "\n",
       "9. **Google Cloud Vision API for Image Handling and OCR** (Jan 17) - Introduces the Google Vision AI and its capabilities for image processing.\n",
       "\n",
       "10. **Build a Speech-to-Text Service in Python with Faster Whisper** (Jan 11) - Shares insights from developing a speech-to-text system for court hearings in Brazil.\n",
       "\n",
       "Johni aims to stay informed and share knowledge on the latest advancements in technology, especially in AI and web frameworks."
      ],
      "text/plain": [
       "<IPython.core.display.Markdown object>"
      ]
     },
     "metadata": {},
     "output_type": "display_data"
    }
   ],
   "source": [
    "display_summary(\"https://medium.com/@johnidouglasmarangon\")"
   ]
  },
  {
   "cell_type": "code",
   "execution_count": 14,
   "id": "37d1c568-113a-4179-ad58-47f94f6bbdb3",
   "metadata": {},
   "outputs": [],
   "source": [
    "file1 = upload_file(\"slide.pdf\")"
   ]
  },
  {
   "cell_type": "code",
   "execution_count": 15,
   "id": "e94f50b0-9018-4dee-8062-be429299fb8b",
   "metadata": {},
   "outputs": [
    {
     "data": {
      "text/markdown": [
       "The generative AI tools mentioned are:\n",
       "\n",
       "1. **ChatGPT**\n",
       "   - Developed by OpenAI (Nov. 2022)\n",
       "   - [openai.com](https://chat.openai.com/)\n",
       "\n",
       "2. **Bing AI**\n",
       "   - Developed by Microsoft (Feb. 2023)\n",
       "   - [bing.com](https://www.bing.com/)\n",
       "\n",
       "3. **Google Bard**\n",
       "   - Developed by Google (Mar. 2023)\n",
       "   - [bard.google.com](https://bard.google.com/)\n",
       "\n",
       "4. **Others**\n",
       "   - Notion, Jasper, DALL-E, and many more."
      ],
      "text/plain": [
       "<IPython.core.display.Markdown object>"
      ]
     },
     "metadata": {},
     "output_type": "display_data"
    }
   ],
   "source": [
    "response = make_question(file1, \"Give me the generative AI tools\")\n",
    "display(Markdown(response))"
   ]
  },
  {
   "cell_type": "markdown",
   "id": "244889a6-aef9-4bb3-8d12-a3353abb2387",
   "metadata": {},
   "source": [
    "## Examples using OpenAI Response API"
   ]
  },
  {
   "cell_type": "markdown",
   "id": "edd529f1-0a57-4eb3-b567-a6c99c6eeabb",
   "metadata": {},
   "source": [
    "#### Text Prompting - Instructions"
   ]
  },
  {
   "cell_type": "code",
   "execution_count": 21,
   "id": "75f710af-43e2-4211-80e2-9cf82d3122fd",
   "metadata": {},
   "outputs": [
    {
     "name": "stdout",
     "output_type": "stream",
     "text": [
      "Ah, this is a delightful little puzzle that involves some clever arrangement rather than straightforward arithmetic. To reach the number 1000 using eight 8’s, you can set them up like this:\n",
      "\n",
      "888 + 88 + 8 + 8 + 8 = 1000\n",
      "\n",
      "Notice how we’ve grouped and added the 8's together to cleverly achieve the desired sum. It's a great example of thinking outside the box!\n"
     ]
    }
   ],
   "source": [
    "response = client.responses.create(\n",
    "    model=\"gpt-4o\",\n",
    "    instructions=\"Talk like a math teacher.\",\n",
    "    input=\"Using only an addition, how do you add eight 8’s and get the number 1000?\",\n",
    ")\n",
    "\n",
    "print(response.output_text)"
   ]
  },
  {
   "cell_type": "markdown",
   "id": "56107bca-b76a-4555-9fed-4ac00efd4a1b",
   "metadata": {},
   "source": [
    "#### Text Prompting - Chain of Command (hierarchical instructions)"
   ]
  },
  {
   "cell_type": "code",
   "execution_count": null,
   "id": "46dcb0f5-fe23-442b-806b-90896154e040",
   "metadata": {},
   "outputs": [],
   "source": [
    "response = client.responses.create(\n",
    "    model=\"gpt-4o\",\n",
    "    input=[\n",
    "        {\"role\": \"system\", \"content\": \"Talk like a teacher.\"},\n",
    "        {\"role\": \"developer\", \"content\": \"Explain the answer in detail using bullet points for each step.\"},\n",
    "        {\"role\": \"user\", \"content\": \"What is the result of the equation 5.93 * 10-2?\"},\n",
    "    ],\n",
    ")\n",
    "\n",
    "print(response.output_text)"
   ]
  },
  {
   "cell_type": "markdown",
   "id": "3aac210b-eb69-4e5c-9f36-7f322ca3e5a7",
   "metadata": {},
   "source": [
    "#### Web Search"
   ]
  },
  {
   "cell_type": "code",
   "execution_count": 37,
   "id": "999237b0-3f8b-4bd7-861b-a9342d6c1464",
   "metadata": {},
   "outputs": [
    {
     "name": "stdout",
     "output_type": "stream",
     "text": [
      "As of April 13, 2025, the trade relationship between the United States and China has been marked by escalating tariffs, significantly impacting various sectors.\n",
      "\n",
      "**U.S. Tariffs on Chinese Imports:**\n",
      "\n",
      "- **February 1, 2025:** The U.S. imposed a 10% tariff on all Chinese imports. ([koco.com](https://www.koco.com/article/china-retaliates-us-import-duties-trade-war/63759262?utm_source=openai))\n",
      "\n",
      "- **March 4, 2025:** The tariff rate increased to 20%. ([dclcorp.com](https://dclcorp.com/blog/supply-chain/impact-us-china-tariffs/?utm_source=openai))\n",
      "\n",
      "- **April 2, 2025:** An additional 34% \"reciprocal tariff\" was added, resulting in an effective minimum tariff of 54% on all imports from China. ([en.wikipedia.org](https://en.wikipedia.org/wiki/Tariffs_in_the_second_Trump_administration?utm_source=openai))\n",
      "\n",
      "- **April 10, 2025:** The tariff rate further escalated to 145%. ([apnews.com](https://apnews.com/article/223e4cd53165da6fbd64aff5652a1aff?utm_source=openai))\n",
      "\n",
      "**Chinese Retaliatory Tariffs:**\n",
      "\n",
      "- **February 4, 2025:** In response to the U.S. tariffs, China imposed duties on American coal, liquefied natural gas, and agricultural machinery. ([koco.com](https://www.koco.com/article/china-retaliates-us-import-duties-trade-war/63759262?utm_source=openai))\n",
      "\n",
      "- **March 10, 2025:** China implemented tariffs on U.S. agricultural products, including soybeans, pork, beef, and dairy. ([en.wikipedia.org](https://en.wikipedia.org/wiki/Tariffs_in_the_second_Trump_administration?utm_source=openai))\n",
      "\n",
      "- **April 10, 2025:** China increased tariffs on U.S. imports to 84%. ([en.wikipedia.org](https://en.wikipedia.org/wiki/Tariffs_in_the_second_Trump_administration?utm_source=openai))\n",
      "\n",
      "**Exemptions and Industry Impact:**\n",
      "\n",
      "In a recent policy shift, the U.S. exempted certain electronic products, such as smartphones, computers, and semiconductors, from the 125% tariffs. This decision aims to alleviate potential price increases for consumers and businesses reliant on these imports. ([reuters.com](https://www.reuters.com/markets/us-commerce-secretary-says-exempted-electronic-products-come-under-separate-2025-04-13/?utm_source=openai))\n",
      "\n",
      "The escalating tariffs have led to significant disruptions in global supply chains, particularly affecting the technology sector. Companies like Apple, which depend heavily on Chinese manufacturing, have faced increased production costs and supply chain uncertainties. ([axios.com](https://www.axios.com/2025/04/12/trump-tariffs-china-apple-iphone-computers?utm_source=openai))\n",
      "\n",
      "The ongoing trade tensions have prompted Chinese businesses to reconsider their trade strategies with the U.S., with some seeking alternative markets to mitigate the impact of tariffs. ([apnews.com](https://apnews.com/article/223e4cd53165da6fbd64aff5652a1aff?utm_source=openai))\n",
      "\n",
      "\n",
      "## Recent Developments in U.S.-China Trade Relations:\n",
      "- [As tariffs put trade between China and the US in peril, Chinese businesses ponder the future](https://apnews.com/article/223e4cd53165da6fbd64aff5652a1aff?utm_source=openai)\n",
      "- [US Commerce Secretary says exempted electronic products to come under separate tariffs](https://www.reuters.com/markets/us-commerce-secretary-says-exempted-electronic-products-come-under-separate-2025-04-13/?utm_source=openai)\n",
      "- [Phones, computers exempted from Trump's 125% China tariffs](https://www.axios.com/2025/04/12/trump-tariffs-china-apple-iphone-computers?utm_source=openai) \n"
     ]
    }
   ],
   "source": [
    "\n",
    "response = client.responses.create(\n",
    "    model=\"gpt-4o-mini\",\n",
    "    input=\"What are the tarifs between the USA and China?\",\n",
    "    tools=[\n",
    "        {\n",
    "            \"type\" : \"web_search_preview\"\n",
    "        }\n",
    "    ]\n",
    ")\n",
    "\n",
    "print(response.output_text)"
   ]
  },
  {
   "cell_type": "markdown",
   "id": "cd69756e-3c88-4adb-99a1-076246fd8467",
   "metadata": {},
   "source": [
    "#### Reasoning"
   ]
  },
  {
   "cell_type": "code",
   "execution_count": 24,
   "id": "4b90c13b-6102-453e-9fb8-78bcfe04b4d2",
   "metadata": {},
   "outputs": [
    {
     "name": "stdout",
     "output_type": "stream",
     "text": [
      "Below is one way to write a recursive Fibonacci function using memoization (also called caching):\n",
      "\n",
      "-------------------------------------------------------------\n",
      "def fibonacci(n, memo=None):\n",
      "    if memo is None:\n",
      "        memo = {}\n",
      "        \n",
      "    # Base cases\n",
      "    if n == 0:\n",
      "        return 0\n",
      "    if n == 1:\n",
      "        return 1\n",
      "    \n",
      "    # Check if result is already computed\n",
      "    if n in memo:\n",
      "        return memo[n]\n",
      "    \n",
      "    # Compute, store in memo, and return\n",
      "    memo[n] = fibonacci(n - 1, memo) + fibonacci(n - 2, memo)\n",
      "    return memo[n]\n",
      "\n",
      "# Example usage:\n",
      "print(fibonacci(10))  # Outputs: 55\n",
      "-------------------------------------------------------------\n",
      "\n",
      "Explanation:\n",
      "\n",
      "1. The function fibonacci takes an integer n and an optional dictionary memo to store already computed values.\n",
      "2. When memo is not provided, it gets initialized as an empty dictionary.\n",
      "3. For the base cases (n == 0 and n == 1), the function returns 0 and 1, respectively.\n",
      "4. Before performing recursive calls, the function checks if the value of n is already in memo to avoid redundant calculations.\n",
      "5. If not in memo, it recursively computes fibonacci(n-1) and fibonacci(n-2), stores the sum in memo[n], and returns the result.\n",
      "6. The example usage prints the 10th Fibonacci number.\n",
      "\n",
      "This approach drastically reduces the time complexity from exponential to linear.\n"
     ]
    }
   ],
   "source": [
    "prompt = \"\"\"\n",
    "Write a recursive Python function to solve the Fibonacci problem.\n",
    "Use memorization.\n",
    "\"\"\"\n",
    "\n",
    "response = client.responses.create(\n",
    "    model=\"o3-mini\",\n",
    "    reasoning={\"effort\": \"medium\"},\n",
    "    input=[{\"role\": \"user\", \"content\": prompt}],\n",
    ")\n",
    "\n",
    "print(response.output_text)"
   ]
  },
  {
   "cell_type": "markdown",
   "id": "c5befc73-9ca1-4a35-99a2-fb5e922d3f8e",
   "metadata": {},
   "source": [
    "#### Structured Output - Whitout Parsing"
   ]
  },
  {
   "cell_type": "code",
   "execution_count": 31,
   "id": "5d7e821e-1609-4ab6-89c9-9af0986ae03b",
   "metadata": {},
   "outputs": [
    {
     "name": "stdout",
     "output_type": "stream",
     "text": [
      "{'name': 'Alice Philip', 'email': 'alice@alice.com'}\n"
     ]
    }
   ],
   "source": [
    "import json\n",
    "from typing import List\n",
    "\n",
    "response = client.responses.create(\n",
    "    model=\"gpt-4o\",\n",
    "    input=[\n",
    "        {\n",
    "            \"role\": \"system\",\n",
    "            \"content\": \"Extract email and name from text.\",\n",
    "        },\n",
    "        {\n",
    "            \"role\": \"user\",\n",
    "            \"content\": \"Customer Alice Philip and her email alice@alice.com.\",\n",
    "        },\n",
    "    ],\n",
    "    text={\n",
    "        \"format\": {\n",
    "            \"type\": \"json_schema\",\n",
    "            \"name\": \"person_info\",\n",
    "            \"schema\": {\n",
    "                \"type\": \"object\",\n",
    "                \"properties\": {\n",
    "                    \"name\": {\"type\": \"string\"},\n",
    "                    \"email\": {\"type\": \"string\"},\n",
    "                },\n",
    "                \"required\": [\"name\", \"email\"],\n",
    "                \"additionalProperties\": False,\n",
    "            },\n",
    "            \"strict\": True,\n",
    "        }\n",
    "    },\n",
    ")\n",
    "\n",
    "event = json.loads(response.output_text)\n",
    "\n",
    "print(event)"
   ]
  },
  {
   "cell_type": "markdown",
   "id": "5e717a1a-2d12-4a06-8d7c-10d2da4b82d1",
   "metadata": {},
   "source": [
    "### Structured Output - With Parsing"
   ]
  },
  {
   "cell_type": "code",
   "execution_count": 34,
   "id": "85cdbf48-3002-476b-8b5b-ce6ba8d7b152",
   "metadata": {},
   "outputs": [
    {
     "name": "stdout",
     "output_type": "stream",
     "text": [
      "<class '__main__.PersonInfo'>\n",
      "{\n",
      "  \"name\": \"Alice Philip\",\n",
      "  \"email\": \"alice@alice.com\"\n",
      "}\n"
     ]
    }
   ],
   "source": [
    "from pydantic import BaseModel\n",
    "\n",
    "class PersonInfo(BaseModel):\n",
    "    name: str\n",
    "    email: str\n",
    "\n",
    "\n",
    "response = client.responses.parse(\n",
    "    model=\"gpt-4o\",\n",
    "    instructions=\"Extract email and name from text.\",\n",
    "    input=\"Customer Alice Philip and her email alice@alice.com.\",\n",
    "    text_format=PersonInfo,\n",
    ")\n",
    "\n",
    "response_model = response.output[0].content[0].parsed\n",
    "\n",
    "print(type(response_model))\n",
    "print(response_model.model_dump_json(indent=2))"
   ]
  },
  {
   "cell_type": "markdown",
   "id": "3d2e3a5f-c145-495c-8360-101584bb7fb5",
   "metadata": {},
   "source": [
    "### Function Calling "
   ]
  },
  {
   "cell_type": "code",
   "execution_count": 35,
   "id": "efe0f541-e320-44c5-a304-fb16a37a9ff2",
   "metadata": {},
   "outputs": [
    {
     "name": "stdout",
     "output_type": "stream",
     "text": [
      "[ResponseFunctionToolCall(arguments='{\"to\":\"ilan@example.com\",\"subject\":\"Hello\",\"body\":\"Hi Ilan!\"}', call_id='call_Gmqd9UGZFa36mKey1Jtfb4To', name='send_email', type='function_call', id='fc_67fbc9ae72b08192b9b1b50b0e4631270ffcfd41484612d1', status='completed'), ResponseFunctionToolCall(arguments='{\"to\":\"katia@example.com\",\"subject\":\"Hello\",\"body\":\"Hi Katia!\"}', call_id='call_K6kqwTaoe6OTubulv3s9tQ9U', name='send_email', type='function_call', id='fc_67fbc9aeaca4819286956a00a1655dd20ffcfd41484612d1', status='completed')]\n",
      "{\n",
      "  \"arguments\": \"{\\\"to\\\":\\\"ilan@example.com\\\",\\\"subject\\\":\\\"Hello\\\",\\\"body\\\":\\\"Hi Ilan!\\\"}\",\n",
      "  \"call_id\": \"call_Gmqd9UGZFa36mKey1Jtfb4To\",\n",
      "  \"name\": \"send_email\",\n",
      "  \"type\": \"function_call\",\n",
      "  \"id\": \"fc_67fbc9ae72b08192b9b1b50b0e4631270ffcfd41484612d1\",\n",
      "  \"status\": \"completed\"\n",
      "}\n",
      "{\n",
      "  \"arguments\": \"{\\\"to\\\":\\\"katia@example.com\\\",\\\"subject\\\":\\\"Hello\\\",\\\"body\\\":\\\"Hi Katia!\\\"}\",\n",
      "  \"call_id\": \"call_K6kqwTaoe6OTubulv3s9tQ9U\",\n",
      "  \"name\": \"send_email\",\n",
      "  \"type\": \"function_call\",\n",
      "  \"id\": \"fc_67fbc9aeaca4819286956a00a1655dd20ffcfd41484612d1\",\n",
      "  \"status\": \"completed\"\n",
      "}\n"
     ]
    }
   ],
   "source": [
    "tools = [\n",
    "    {\n",
    "        \"type\": \"function\",\n",
    "        \"name\": \"send_email\",\n",
    "        \"description\": \"Send an email to a given recipient with a subject and message.\",\n",
    "        \"parameters\": {\n",
    "            \"type\": \"object\",\n",
    "            \"properties\": {\n",
    "                \"to\": {\"type\": \"string\", \"description\": \"The recipient email address.\"},\n",
    "                \"subject\": {\"type\": \"string\", \"description\": \"Email subject line.\"},\n",
    "                \"body\": {\"type\": \"string\", \"description\": \"Body of the email message.\"},\n",
    "            },\n",
    "            \"required\": [\"to\", \"subject\", \"body\"],\n",
    "            \"additionalProperties\": False,\n",
    "        },\n",
    "    }\n",
    "]\n",
    "\n",
    "response = client.responses.create(\n",
    "    model=\"gpt-4o\",\n",
    "    input=\"Can you send an email to ilan@example.com and katia@example.com saying hi?\",\n",
    "    tools=tools,\n",
    ")\n",
    "\n",
    "print(response.output)\n",
    "print(response.output[0].model_dump_json(indent=2))\n",
    "print(response.output[1].model_dump_json(indent=2))"
   ]
  },
  {
   "cell_type": "markdown",
   "id": "11cd12d5-bb22-40ef-8e12-d3f5c2d916cc",
   "metadata": {},
   "source": [
    "#### File Search"
   ]
  },
  {
   "cell_type": "code",
   "execution_count": 13,
   "id": "9b95ae20-43f5-4a61-b1a7-d1dc8fa41614",
   "metadata": {},
   "outputs": [],
   "source": [
    "uploaded_file = client.files.create(\n",
    "        file=open(filename, \"rb\"),\n",
    "        purpose=\"user_data\",\n",
    ")\n",
    "\n",
    "response = client.responses.create(\n",
    "    model=\"gpt-4o\",\n",
    "    input=[\n",
    "        {\n",
    "            \"role\": \"user\",\n",
    "            \"content\": [\n",
    "                {\n",
    "                    \"type\": \"input_file\",\n",
    "                    \"file_id\": uploaded_file.id,\n",
    "                },\n",
    "                {\n",
    "                    \"type\": \"input_text\",\n",
    "                    \"text\": question,\n",
    "                },\n",
    "            ]\n",
    "        }\n",
    "    ]\n",
    ")\n",
    "\n",
    "pritn(response.output_text)"
   ]
  }
 ],
 "metadata": {
  "kernelspec": {
   "display_name": "Python 3 (ipykernel)",
   "language": "python",
   "name": "python3"
  },
  "language_info": {
   "codemirror_mode": {
    "name": "ipython",
    "version": 3
   },
   "file_extension": ".py",
   "mimetype": "text/x-python",
   "name": "python",
   "nbconvert_exporter": "python",
   "pygments_lexer": "ipython3",
   "version": "3.12.6"
  }
 },
 "nbformat": 4,
 "nbformat_minor": 5
}
