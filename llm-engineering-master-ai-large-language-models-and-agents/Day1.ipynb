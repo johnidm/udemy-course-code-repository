{
 "cells": [
  {
   "cell_type": "code",
   "execution_count": 9,
   "id": "ec52d31b-c3bb-41b6-ad69-3f732a14912b",
   "metadata": {},
   "outputs": [
    {
     "name": "stdout",
     "output_type": "stream",
     "text": [
      "\n",
      "\u001b[1m[\u001b[0m\u001b[34;49mnotice\u001b[0m\u001b[1;39;49m]\u001b[0m\u001b[39;49m A new release of pip is available: \u001b[0m\u001b[31;49m25.0\u001b[0m\u001b[39;49m -> \u001b[0m\u001b[32;49m25.0.1\u001b[0m\n",
      "\u001b[1m[\u001b[0m\u001b[34;49mnotice\u001b[0m\u001b[1;39;49m]\u001b[0m\u001b[39;49m To update, run: \u001b[0m\u001b[32;49mpip install --upgrade pip\u001b[0m\n"
     ]
    }
   ],
   "source": [
    "!pip install openai requests bs4 -q"
   ]
  },
  {
   "cell_type": "code",
   "execution_count": 19,
   "id": "dcd80f2f-6866-4ac7-ab49-64897e9a7795",
   "metadata": {},
   "outputs": [],
   "source": [
    "import requests\n",
    "from openai import OpenAI\n",
    "from bs4 import BeautifulSoup\n",
    "from IPython.display import Markdown, display"
   ]
  },
  {
   "cell_type": "code",
   "execution_count": 20,
   "id": "5344c2a0-0604-4c1b-91fb-21cc2e3556fe",
   "metadata": {},
   "outputs": [],
   "source": [
    "def scrapping_for(url: str):\n",
    "    headers = {\n",
    "     \"User-Agent\": \"Mozilla/5.0 (Windows NT 10.0; Win64; x64) AppleWebKit/537.36 (KHTML, like Gecko) Chrome/117.0.0.0 Safari/537.36\"\n",
    "    }\n",
    "\n",
    "    response = requests.get(url, headers=headers)\n",
    "    soup = BeautifulSoup(response.content, 'html.parser')\n",
    "\n",
    "    title = soup.title.string if soup.title else \"No title found\"\n",
    "    \n",
    "    for irrelevant in soup.body([\"script\", \"style\", \"img\", \"input\"]):\n",
    "        irrelevant.decompose()\n",
    "    \n",
    "    text = soup.body.get_text(separator=\"\\n\", strip=True)\n",
    "\n",
    "    return {\n",
    "        \"title\": title,\n",
    "        \"text\": text,\n",
    "    }\n",
    "\n",
    "def messages_for(website):\n",
    "    system_prompt = \"You are an assistant that analyzes the contents of a website \\\n",
    "and provides a short summary, ignoring text that might be navigation related. \\\n",
    "Respond in markdown.\"\n",
    "\n",
    "    user_prompt = f\"You are looking at a website titled {website[\"title\"]}\"\n",
    "    user_prompt += \"\\nThe contents of this website is as follows; \\\n",
    "please provide a short summary of this website in markdown. \\\n",
    "If it includes news or announcements, then summarize these too.\\n\\n\"\n",
    "    user_prompt += website[\"text\"]\n",
    "  \n",
    "    \n",
    "    return [\n",
    "        {\n",
    "            \"role\": \"system\",\n",
    "            \"content\": system_prompt, \n",
    "        },\n",
    "        {\n",
    "            \"role\": \"user\",\n",
    "            \"content\": user_prompt,             \n",
    "        }\n",
    "        \n",
    "    ]"
   ]
  },
  {
   "cell_type": "code",
   "execution_count": 37,
   "id": "bff432e0-b182-416e-813f-c13b752b9ba5",
   "metadata": {},
   "outputs": [],
   "source": [
    "api_key = \"sk-proj-\""
   ]
  },
  {
   "cell_type": "code",
   "execution_count": 30,
   "id": "c3461156-20b6-49ac-a128-b71e938c839f",
   "metadata": {},
   "outputs": [],
   "source": [
    "def summarize(url):   \n",
    "    client = OpenAI(api_key=api_key)\n",
    "    \n",
    "    website = scrapping_for(url)\n",
    "    \n",
    "    response = client.chat.completions.create(\n",
    "        model = \"gpt-4o-mini\",\n",
    "        messages = messages_for(website)\n",
    "    )\n",
    "    return response.choices[0].message.content"
   ]
  },
  {
   "cell_type": "code",
   "execution_count": 34,
   "id": "16ab86e3-5036-4f98-9cf3-9476bc67b3d4",
   "metadata": {},
   "outputs": [],
   "source": [
    "def display_summary(summary):\n",
    "    display(Markdown(summary))"
   ]
  },
  {
   "cell_type": "code",
   "execution_count": 36,
   "id": "d6087a4d-b53c-4ad8-a776-b9ed0cd28540",
   "metadata": {},
   "outputs": [
    {
     "data": {
      "text/markdown": [
       "# Summary of Johni Douglas Marangon's Medium\n",
       "\n",
       "Johni Douglas Marangon is a technology enthusiast focused on artificial intelligence, programming, and web development. The website features a collection of articles that include:\n",
       "\n",
       "1. **Scaling OpenAI API Usage with Multiple Python Requests** - Discusses creating a service for a classification task involving multiple prompts (3 days ago).\n",
       "   \n",
       "2. **Efficient PDF Text Extraction in Java** - Covers OCR and parsing techniques for extracting data from PDFs (Published on Mar 7).\n",
       "\n",
       "3. **Generating Structured Outputs from PDFs with Semantic Kernel and Gemini** - Explores methods for structured data extraction from PDF documents (Published on Mar 3).\n",
       "\n",
       "4. **My Journey to Read the Vue.js 3 Official Documentation** - Reflects on the experience of studying the official Vue.js 3 documentation (Published on Feb 28).\n",
       "\n",
       "5. **Integrating LLM into Java Applications with Spring AI** - Describes incorporating large language models into Java applications for enhanced NLP features (Published on Feb 14).\n",
       "\n",
       "6. **Visualizing Data: Exploring Various Graphs in Python** - Discusses the importance of data visualization using graphs and charts (Published on Feb 6).\n",
       "\n",
       "7. **OCR Tools: Solving Real-World Problems with Low-Quality Images** - Examines the challenges and applications of OCR technology (Published on Jan 29).\n",
       "\n",
       "8. **Reversing Strings in Python: Immutability Explained** - Analyzes the concept of string immutability in Python (Published on Jan 23).\n",
       "\n",
       "9. **Google Cloud Vision API for Image Handling and OCR** - An overview of Google's AI tools for image handling (Published on Jan 17).\n",
       "\n",
       "10. **Build a Speech-to-Text Service in Python with Faster Whisper** - Shares insights on developing a speech-to-text system for court hearings in Brazil (Published on Jan 11).\n",
       "\n",
       "Johni expresses a proactive approach to learning and sharing knowledge in tech, illustrating various programming techniques and tools throughout the articles."
      ],
      "text/plain": [
       "<IPython.core.display.Markdown object>"
      ]
     },
     "metadata": {},
     "output_type": "display_data"
    }
   ],
   "source": [
    "summary = summarize(\"https://medium.com/@johnidouglasmarangon\")\n",
    "\n",
    "display_summary(summary)"
   ]
  }
 ],
 "metadata": {
  "kernelspec": {
   "display_name": "Python 3 (ipykernel)",
   "language": "python",
   "name": "python3"
  },
  "language_info": {
   "codemirror_mode": {
    "name": "ipython",
    "version": 3
   },
   "file_extension": ".py",
   "mimetype": "text/x-python",
   "name": "python",
   "nbconvert_exporter": "python",
   "pygments_lexer": "ipython3",
   "version": "3.12.6"
  }
 },
 "nbformat": 4,
 "nbformat_minor": 5
}
